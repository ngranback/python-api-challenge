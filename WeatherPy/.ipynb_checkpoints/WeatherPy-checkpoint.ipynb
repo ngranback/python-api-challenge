{
 "cells": [
  {
   "cell_type": "markdown",
   "metadata": {},
   "source": [
    "# WeatherPy\n",
    "----\n",
    "\n",
    "#### Note\n",
    "* Instructions have been included for each segment. You do not have to follow them exactly, but they are included to help you think through the steps."
   ]
  },
  {
   "cell_type": "code",
   "execution_count": 1,
   "metadata": {
    "scrolled": true
   },
   "outputs": [],
   "source": [
    "#!pip install citipy\n",
    "\n",
    "# Dependencies and Setup\n",
    "import matplotlib.pyplot as plt\n",
    "import pandas as pd\n",
    "import numpy as np\n",
    "import requests\n",
    "import time\n",
    "from scipy.stats import linregress\n",
    "from pprint import pprint\n",
    "\n",
    "# Import API key\n",
    "from api_keys import weather_api_key\n",
    "\n",
    "# Incorporated citipy to determine city based on latitude and longitude\n",
    "from citipy import citipy\n",
    "\n",
    "# Output File (CSV)\n",
    "#output_data_file = \"output_data\\cities.csv\"\n",
    "\n",
    "# Range of latitudes and longitudes\n",
    "lat_range = (-90, 90)\n",
    "lng_range = (-180, 180)"
   ]
  },
  {
   "cell_type": "markdown",
   "metadata": {},
   "source": [
    "## Generate Cities List"
   ]
  },
  {
   "cell_type": "code",
   "execution_count": 2,
   "metadata": {},
   "outputs": [
    {
     "data": {
      "text/plain": [
       "76"
      ]
     },
     "execution_count": 2,
     "metadata": {},
     "output_type": "execute_result"
    }
   ],
   "source": [
    "# List for holding lat_lngs and cities\n",
    "lat_lngs = []\n",
    "cities = []\n",
    "\n",
    "# Create a set of random lat and lng combinations\n",
    "lats = np.random.uniform(lat_range[0], lat_range[1], size=100)\n",
    "lngs = np.random.uniform(lng_range[0], lng_range[1], size=100)\n",
    "lat_lngs = zip(lats, lngs)\n",
    "\n",
    "# Identify nearest city for each lat, lng combination\n",
    "for lat_lng in lat_lngs:\n",
    "    city = citipy.nearest_city(lat_lng[0], lat_lng[1]).city_name\n",
    "    \n",
    "    # If the city is unique, then add it to a our cities list\n",
    "    if city not in cities:\n",
    "        cities.append(city)\n",
    "\n",
    "# Print the city count to confirm sufficient count\n",
    "len(cities)"
   ]
  },
  {
   "cell_type": "markdown",
   "metadata": {},
   "source": [
    "### Perform API Calls\n",
    "* Perform a weather check on each city using a series of successive API calls.\n",
    "* Include a print log of each city as it'sbeing processed (with the city number and city name).\n"
   ]
  },
  {
   "cell_type": "code",
   "execution_count": 3,
   "metadata": {},
   "outputs": [],
   "source": [
    "#x=cities[0]\n",
    "#cityweather=requests.get(f'http://api.openweathermap.org/data/2.5/weather?q={x}&appid={weather_api_key}').json()\n",
    "#pprint(cityweather)"
   ]
  },
  {
   "cell_type": "code",
   "execution_count": 4,
   "metadata": {
    "scrolled": true
   },
   "outputs": [
    {
     "name": "stdout",
     "output_type": "stream",
     "text": [
      "Successfully retrieved data for city 1: vanimo\n",
      "Successfully retrieved data for city 2: rikitea\n",
      "Successfully retrieved data for city 3: saskylakh\n",
      "Successfully retrieved data for city 4: ocos\n",
      "Successfully retrieved data for city 5: kapaa\n",
      "Successfully retrieved data for city 6: cape town\n",
      "Successfully retrieved data for city 7: severo-kurilsk\n",
      "Successfully retrieved data for city 8: ushuaia\n",
      "Successfully retrieved data for city 9: bogorodskoye\n",
      "Successfully retrieved data for city 10: faanui\n",
      "Successfully retrieved data for city 11: thompson\n",
      "Successfully retrieved data for city 12: hermanus\n",
      "Successfully retrieved data for city 13: atuona\n",
      "Successfully retrieved data for city 14: nemuro\n",
      "Successfully retrieved data for city 15: khatanga\n",
      "Successfully retrieved data for city 16: chokurdakh\n",
      "Successfully retrieved data for city 17: mataura\n",
      "Successfully retrieved data for city 18: jelgava\n",
      "Successfully retrieved data for city 19: cockburn town\n",
      "Successfully retrieved data for city 20: cidreira\n",
      "Successfully retrieved data for city 21: bluff\n",
      "Successfully retrieved data for city 22: quatre cocos\n",
      "Successfully retrieved data for city 23: hobart\n",
      "Successfully retrieved data for city 24: bredasdorp\n",
      "Successfully retrieved data for city 25: cabo san lucas\n",
      "Successfully retrieved data for city 26: jamestown\n",
      "Successfully retrieved data for city 27: kaitangata\n",
      "Successfully retrieved data for city 28: saint george\n",
      "Successfully retrieved data for city 29: otjimbingwe\n",
      "Successfully retrieved data for city 30: port elizabeth\n",
      "Successfully retrieved data for city 31: gravelbourg\n",
      "Successfully retrieved data for city 32: balabac\n",
      "Successfully retrieved data for city 33: cabra\n",
      "Successfully retrieved data for city 34: tuktoyaktuk\n",
      "Successfully retrieved data for city 35: basco\n",
      "Successfully retrieved data for city 36: saint-philippe\n",
      "Successfully retrieved data for city 37: campo de criptana\n",
      "Successfully retrieved data for city 38: hamilton\n",
      "Successfully retrieved data for city 39: sioux lookout\n",
      "Successfully retrieved data for city 40: tanushimaru\n",
      "Successfully retrieved data for city 41: longyearbyen\n",
      "Successfully retrieved data for city 42: moyale\n",
      "Successfully retrieved data for city 43: le pont-de-claix\n",
      "Successfully retrieved data for city 44: diego de almagro\n",
      "Successfully retrieved data for city 45: esperance\n",
      "Successfully retrieved data for city 46: coquimbo\n",
      "Successfully retrieved data for city 47: arraial do cabo\n",
      "Successfully retrieved data for city 48: saint-francois\n",
      "Successfully retrieved data for city 49: baykit\n",
      "Successfully retrieved data for city 50: new norfolk\n",
      "Successfully retrieved data for city 51: conde\n",
      "Successfully retrieved data for city 52: thinadhoo\n",
      "Successfully retrieved data for city 53: albany\n",
      "Successfully retrieved data for city 54: komsomolskiy\n",
      "Successfully retrieved data for city 55: punta arenas\n",
      "Successfully retrieved data for city 56: hirara\n",
      "Successfully retrieved data for city 57: deputatskiy\n",
      "Successfully retrieved data for city 58: tilichiki\n",
      "Successfully retrieved data for city 59: lavrentiya\n",
      "Successfully retrieved data for city 60: lompoc\n",
      "Successfully retrieved data for city 61: bethel\n",
      "Successfully retrieved data for city 62: pevek\n",
      "Successfully retrieved data for city 63: launceston\n",
      "Successfully retrieved data for city 64: kingston\n",
      "Successfully retrieved data for city 65: okhotsk\n",
      "Successfully retrieved data for city 66: date\n",
      "Successfully retrieved data for city 67: road town\n",
      "Successfully retrieved data for city 68: nikolskoye\n",
      "Successfully retrieved data for city 69: locri\n",
      "Successfully retrieved data for city 70: chuy\n",
      "Successfully retrieved data for city 71: castro\n",
      "Successfully retrieved data for city 72: xaxim\n",
      "\n",
      "\n",
      "\n",
      "Data retrieval complete.\n"
     ]
    }
   ],
   "source": [
    "baseurl= 'http://api.openweathermap.org/data/2.5/weather?q='\n",
    "key='&appid='+weather_api_key\n",
    "\n",
    "realCities,fakeCities=[],[]\n",
    "maxtemps,hums,clouds,winds,countries,dts = [],[],[],[],[],[]\n",
    "lats,lngs, hemi =[],[],[]\n",
    "\n",
    "for city in cities: \n",
    "    url = baseurl + city + key\n",
    "    weatherDict = requests.get(url).json()\n",
    "    if 'coord' in weatherDict:\n",
    "        K=float(weatherDict['main']['temp_max'])\n",
    "        F = ((K + (-273.15)) * (9/5)) + 32\n",
    "        maxtemps.append(F)\n",
    "        hums.append(weatherDict['main']['humidity'])\n",
    "        clouds.append(weatherDict['clouds']['all'])\n",
    "        winds.append(weatherDict['wind']['speed'])\n",
    "        lats.append(weatherDict['coord']['lat'])\n",
    "        lngs.append(weatherDict['coord']['lon'])\n",
    "        countries.append(weatherDict['sys']['country'])\n",
    "        dts.append(weatherDict['dt'])\n",
    "        \n",
    "        if weatherDict['coord']['lat'] > 0:\n",
    "            hemi.append('north')\n",
    "        else:\n",
    "            hemi.append('south')\n",
    "        \n",
    "        realCities.append(city)\n",
    "        \n",
    "        y=len(realCities)\n",
    "        print(f'Successfully retrieved data for city {y}: {city}')\n",
    "    else:\n",
    "        fakeCities.append(city)\n",
    "\n",
    "print('\\n\\n\\nData retrieval complete.')\n",
    "\n",
    "cityDF = pd.DataFrame({\n",
    "    'City':realCities,\n",
    "    'Latitude':lats,\n",
    "    'Longitude':lngs,\n",
    "    'Maximum Temperature':maxtemps,\n",
    "    'Humidity':hums,\n",
    "    'Cloud Cover':clouds,\n",
    "    'Wind Speed':winds,\n",
    "    'Country':countries,\n",
    "    'Datetime':dts,\n",
    "    'Hemisphere':hemi\n",
    "})\n"
   ]
  },
  {
   "cell_type": "markdown",
   "metadata": {},
   "source": [
    "### Convert Raw Data to DataFrame\n",
    "* Export the city data into a .csv.\n",
    "* Display the DataFrame"
   ]
  },
  {
   "cell_type": "code",
   "execution_count": 5,
   "metadata": {},
   "outputs": [
    {
     "data": {
      "text/html": [
       "<div>\n",
       "<style scoped>\n",
       "    .dataframe tbody tr th:only-of-type {\n",
       "        vertical-align: middle;\n",
       "    }\n",
       "\n",
       "    .dataframe tbody tr th {\n",
       "        vertical-align: top;\n",
       "    }\n",
       "\n",
       "    .dataframe thead th {\n",
       "        text-align: right;\n",
       "    }\n",
       "</style>\n",
       "<table border=\"1\" class=\"dataframe\">\n",
       "  <thead>\n",
       "    <tr style=\"text-align: right;\">\n",
       "      <th></th>\n",
       "      <th>City</th>\n",
       "      <th>Latitude</th>\n",
       "      <th>Longitude</th>\n",
       "      <th>Maximum Temperature</th>\n",
       "      <th>Humidity</th>\n",
       "      <th>Cloud Cover</th>\n",
       "      <th>Wind Speed</th>\n",
       "      <th>Country</th>\n",
       "      <th>Datetime</th>\n",
       "      <th>Hemisphere</th>\n",
       "    </tr>\n",
       "  </thead>\n",
       "  <tbody>\n",
       "    <tr>\n",
       "      <th>0</th>\n",
       "      <td>vanimo</td>\n",
       "      <td>-2.6741</td>\n",
       "      <td>141.3028</td>\n",
       "      <td>77.900</td>\n",
       "      <td>90</td>\n",
       "      <td>100</td>\n",
       "      <td>1.94</td>\n",
       "      <td>PG</td>\n",
       "      <td>1622319548</td>\n",
       "      <td>south</td>\n",
       "    </tr>\n",
       "    <tr>\n",
       "      <th>1</th>\n",
       "      <td>rikitea</td>\n",
       "      <td>-23.1203</td>\n",
       "      <td>-134.9692</td>\n",
       "      <td>77.216</td>\n",
       "      <td>86</td>\n",
       "      <td>91</td>\n",
       "      <td>8.93</td>\n",
       "      <td>PF</td>\n",
       "      <td>1622318979</td>\n",
       "      <td>south</td>\n",
       "    </tr>\n",
       "    <tr>\n",
       "      <th>2</th>\n",
       "      <td>saskylakh</td>\n",
       "      <td>71.9167</td>\n",
       "      <td>114.0833</td>\n",
       "      <td>30.938</td>\n",
       "      <td>96</td>\n",
       "      <td>61</td>\n",
       "      <td>3.66</td>\n",
       "      <td>RU</td>\n",
       "      <td>1622319386</td>\n",
       "      <td>north</td>\n",
       "    </tr>\n",
       "    <tr>\n",
       "      <th>3</th>\n",
       "      <td>ocos</td>\n",
       "      <td>14.5094</td>\n",
       "      <td>-92.1933</td>\n",
       "      <td>87.980</td>\n",
       "      <td>69</td>\n",
       "      <td>63</td>\n",
       "      <td>4.18</td>\n",
       "      <td>GT</td>\n",
       "      <td>1622319549</td>\n",
       "      <td>north</td>\n",
       "    </tr>\n",
       "    <tr>\n",
       "      <th>4</th>\n",
       "      <td>kapaa</td>\n",
       "      <td>22.0752</td>\n",
       "      <td>-159.3190</td>\n",
       "      <td>81.122</td>\n",
       "      <td>70</td>\n",
       "      <td>20</td>\n",
       "      <td>0.89</td>\n",
       "      <td>US</td>\n",
       "      <td>1622318970</td>\n",
       "      <td>north</td>\n",
       "    </tr>\n",
       "  </tbody>\n",
       "</table>\n",
       "</div>"
      ],
      "text/plain": [
       "        City  Latitude  Longitude  Maximum Temperature  Humidity  Cloud Cover  \\\n",
       "0     vanimo   -2.6741   141.3028               77.900        90          100   \n",
       "1    rikitea  -23.1203  -134.9692               77.216        86           91   \n",
       "2  saskylakh   71.9167   114.0833               30.938        96           61   \n",
       "3       ocos   14.5094   -92.1933               87.980        69           63   \n",
       "4      kapaa   22.0752  -159.3190               81.122        70           20   \n",
       "\n",
       "   Wind Speed Country    Datetime Hemisphere  \n",
       "0        1.94      PG  1622319548      south  \n",
       "1        8.93      PF  1622318979      south  \n",
       "2        3.66      RU  1622319386      north  \n",
       "3        4.18      GT  1622319549      north  \n",
       "4        0.89      US  1622318970      north  "
      ]
     },
     "execution_count": 5,
     "metadata": {},
     "output_type": "execute_result"
    }
   ],
   "source": [
    "cityDF.to_csv('cities.csv')\n",
    "\n",
    "cityDF.head()"
   ]
  },
  {
   "cell_type": "code",
   "execution_count": 6,
   "metadata": {},
   "outputs": [
    {
     "data": {
      "text/plain": [
       "(72, 10)"
      ]
     },
     "execution_count": 6,
     "metadata": {},
     "output_type": "execute_result"
    }
   ],
   "source": [
    "cityDF.shape"
   ]
  },
  {
   "cell_type": "markdown",
   "metadata": {},
   "source": [
    "## Inspect the data and remove the cities where the humidity > 100%.\n",
    "----\n",
    "Skip this step if there are no cities that have humidity > 100%. "
   ]
  },
  {
   "cell_type": "code",
   "execution_count": 7,
   "metadata": {},
   "outputs": [
    {
     "data": {
      "text/plain": [
       "98"
      ]
     },
     "execution_count": 7,
     "metadata": {},
     "output_type": "execute_result"
    }
   ],
   "source": [
    "cityDF['Humidity'].max()\n",
    "# No cities over 100% humidity\n",
    "# but random selection may change this later"
   ]
  },
  {
   "cell_type": "code",
   "execution_count": 8,
   "metadata": {},
   "outputs": [
    {
     "data": {
      "text/plain": [
       "(72, 10)"
      ]
     },
     "execution_count": 8,
     "metadata": {},
     "output_type": "execute_result"
    }
   ],
   "source": [
    "# Make a new DataFrame equal to the city data to drop all humidity outliers by index.\n",
    "# Passing \"inplace=False\" will make a copy of the city_data DataFrame, which we call \"clean_city_data\".\n",
    "new_cityDF=cityDF[cityDF['Humidity']<=100]\n",
    "new_cityDF.shape"
   ]
  },
  {
   "cell_type": "markdown",
   "metadata": {},
   "source": [
    "## Plotting the Data\n",
    "* Use proper labeling of the plots using plot titles (including date of analysis) and axes labels.\n",
    "* Save the plotted figures as .pngs."
   ]
  },
  {
   "cell_type": "markdown",
   "metadata": {},
   "source": [
    "## Latitude vs. Temperature Plot"
   ]
  },
  {
   "cell_type": "code",
   "execution_count": 9,
   "metadata": {
    "scrolled": true
   },
   "outputs": [
    {
     "data": {
      "image/png": "[encoded data removed]",
      "text/plain": [
       "<Figure size 432x288 with 1 Axes>"
      ]
     },
     "metadata": {
      "needs_background": "light"
     },
     "output_type": "display_data"
    }
   ],
   "source": [
    "import datetime\n",
    "today=datetime.date.today()\n",
    "\n",
    "plt.scatter(new_cityDF['Latitude'],new_cityDF['Maximum Temperature'])\n",
    "plt.title(f'Latitude vs. Max temperature ({today})')\n",
    "plt.ylabel('Max Temperature (F)')\n",
    "plt.xlabel('Latitude')\n",
    "plt.savefig('latVtemp')\n",
    "plt.show()"
   ]
  },
  {
   "cell_type": "markdown",
   "metadata": {},
   "source": [
    "## Latitude vs. Humidity Plot"
   ]
  },
  {
   "cell_type": "code",
   "execution_count": 10,
   "metadata": {},
   "outputs": [
    {
     "data": {
      "image/png": "[encoded data removed]",
      "text/plain": [
       "<Figure size 432x288 with 1 Axes>"
      ]
     },
     "metadata": {
      "needs_background": "light"
     },
     "output_type": "display_data"
    }
   ],
   "source": [
    "plt.scatter(new_cityDF['Latitude'],new_cityDF['Humidity'])\n",
    "plt.title(f'Latitude vs. Humidity ({today})')\n",
    "plt.ylabel('Humidity (%)')\n",
    "plt.xlabel('Latitude')\n",
    "plt.savefig('latVhum')\n",
    "plt.show()"
   ]
  },
  {
   "cell_type": "markdown",
   "metadata": {},
   "source": [
    "## Latitude vs. Cloudiness Plot"
   ]
  },
  {
   "cell_type": "code",
   "execution_count": 11,
   "metadata": {},
   "outputs": [
    {
     "data": {
      "image/png": "[encoded data removed]",
      "text/plain": [
       "<Figure size 432x288 with 1 Axes>"
      ]
     },
     "metadata": {
      "needs_background": "light"
     },
     "output_type": "display_data"
    }
   ],
   "source": [
    "plt.scatter(new_cityDF['Latitude'],new_cityDF['Cloud Cover'])\n",
    "plt.title(f'Latitude vs. Cloud Cover ({today})')\n",
    "plt.ylabel('Clouds (%)')\n",
    "plt.xlabel('Latitude')\n",
    "plt.savefig('latVcloud')\n",
    "plt.show()"
   ]
  },
  {
   "cell_type": "markdown",
   "metadata": {},
   "source": [
    "## Latitude vs. Wind Speed Plot"
   ]
  },
  {
   "cell_type": "code",
   "execution_count": 12,
   "metadata": {},
   "outputs": [
    {
     "data": {
      "image/png": "[encoded data removed]",
      "text/plain": [
       "<Figure size 432x288 with 1 Axes>"
      ]
     },
     "metadata": {
      "needs_background": "light"
     },
     "output_type": "display_data"
    }
   ],
   "source": [
    "plt.scatter(new_cityDF['Latitude'],new_cityDF['Wind Speed'])\n",
    "plt.title(f'Latitude vs. Wind Speed ({today})')\n",
    "plt.ylabel('Wind Speed (mph)')\n",
    "plt.xlabel('Latitude')\n",
    "plt.savefig('latVwind')\n",
    "plt.show()"
   ]
  },
  {
   "cell_type": "markdown",
   "metadata": {},
   "source": [
    "## Linear Regression"
   ]
  },
  {
   "cell_type": "code",
   "execution_count": null,
   "metadata": {},
   "outputs": [],
   "source": []
  },
  {
   "cell_type": "markdown",
   "metadata": {},
   "source": [
    "####  Northern Hemisphere - Max Temp vs. Latitude Linear Regression"
   ]
  },
  {
   "cell_type": "code",
   "execution_count": 29,
   "metadata": {},
   "outputs": [
    {
     "data": {
      "image/png": "[encoded data removed]",
      "text/plain": [
       "<Figure size 432x288 with 1 Axes>"
      ]
     },
     "metadata": {
      "needs_background": "light"
     },
     "output_type": "display_data"
    },
    {
     "name": "stdout",
     "output_type": "stream",
     "text": [
      "Line Equation: y = -0.8 x + 96.9\n",
      "The r2 value is 0.7043\n"
     ]
    }
   ],
   "source": [
    "northDF = new_cityDF[new_cityDF['Hemisphere'] == 'north']\n",
    "southDF = new_cityDF[new_cityDF['Hemisphere'] == 'south']\n",
    "\n",
    "from scipy.stats import linregress\n",
    "import numpy as np\n",
    "\n",
    "x = northDF['Latitude']\n",
    "y = northDF['Maximum Temperature']\n",
    "(slope, intercept, rvalue, pvalue, stderr) = linregress(x, y)\n",
    "regress_values = (x * slope) + intercept\n",
    "line_eq = \"y = \" + str(round(slope,2)) + \"x + \" + str(round(intercept,2))\n",
    "plt.scatter(x,y)\n",
    "plt.plot(x,regress_values,\"r-\")\n",
    "plt.title(f'Latitude vs. Max Temp, North Hemisphere ({today})')\n",
    "plt.xlabel('Latitude')\n",
    "plt.ylabel('Max Temperature (F)')\n",
    "plt.savefig('latVtemp_N_linreg')\n",
    "plt.show()\n",
    "\n",
    "print(f'Line Equation: y = {slope:.1f} x + {intercept:.1f}')\n",
    "print(f'The r2 value is {rvalue **2:.4f}')\n"
   ]
  },
  {
   "cell_type": "markdown",
   "metadata": {},
   "source": [
    "####  Southern Hemisphere - Max Temp vs. Latitude Linear Regression"
   ]
  },
  {
   "cell_type": "code",
   "execution_count": 30,
   "metadata": {},
   "outputs": [
    {
     "data": {
      "image/png": "[encoded data removed]",
      "text/plain": [
       "<Figure size 432x288 with 1 Axes>"
      ]
     },
     "metadata": {
      "needs_background": "light"
     },
     "output_type": "display_data"
    },
    {
     "name": "stdout",
     "output_type": "stream",
     "text": [
      "Line Equation: y = 1.0 x + 92.6\n",
      "The r2 value is 0.8224\n"
     ]
    }
   ],
   "source": [
    "x = southDF['Latitude']\n",
    "y = southDF['Maximum Temperature']\n",
    "(slope, intercept, rvalue, pvalue, stderr) = linregress(x, y)\n",
    "regress_values = (x * slope) + intercept\n",
    "line_eq = \"y = \" + str(round(slope,2)) + \"x + \" + str(round(intercept,2))\n",
    "plt.scatter(x,y)\n",
    "plt.plot(x,regress_values,\"r-\")\n",
    "plt.title(f'Latitude vs. Max Temp, South Hemisphere ({today})')\n",
    "plt.xlabel('Latitude')\n",
    "plt.ylabel('Max Temperature (F)')\n",
    "plt.savefig('latVtemp_S_linreg')\n",
    "plt.show()\n",
    "\n",
    "print(f'Line Equation: y = {slope:.1f} x + {intercept:.1f}')\n",
    "print(f'The r2 value is {rvalue **2:.4f}')\n"
   ]
  },
  {
   "cell_type": "markdown",
   "metadata": {},
   "source": [
    "####  Northern Hemisphere - Humidity (%) vs. Latitude Linear Regression"
   ]
  },
  {
   "cell_type": "code",
   "execution_count": 32,
   "metadata": {},
   "outputs": [
    {
     "data": {
      "image/png": "[encoded data removed]",
      "text/plain": [
       "<Figure size 432x288 with 1 Axes>"
      ]
     },
     "metadata": {
      "needs_background": "light"
     },
     "output_type": "display_data"
    },
    {
     "name": "stdout",
     "output_type": "stream",
     "text": [
      "Line Equation: y = 0.1 x + 65.9\n",
      "The r2 value is 0.0031\n"
     ]
    }
   ],
   "source": [
    "x = northDF['Latitude']\n",
    "y = northDF['Humidity']\n",
    "(slope, intercept, rvalue, pvalue, stderr) = linregress(x, y)\n",
    "regress_values = (x * slope) + intercept\n",
    "line_eq = \"y = \" + str(round(slope,2)) + \"x + \" + str(round(intercept,2))\n",
    "plt.scatter(x,y)\n",
    "plt.plot(x,regress_values,\"r-\")\n",
    "plt.title(f'Latitude vs. Humidity, North Hemisphere ({today})')\n",
    "plt.xlabel('Latitude')\n",
    "plt.ylabel('Humidity (%)')\n",
    "plt.savefig('latVhum_N_linreg')\n",
    "plt.show()\n",
    "\n",
    "print(f'Line Equation: y = {slope:.1f} x + {intercept:.1f}')\n",
    "print(f'The r2 value is {rvalue **2:.4f}')"
   ]
  },
  {
   "cell_type": "markdown",
   "metadata": {},
   "source": [
    "####  Southern Hemisphere - Humidity (%) vs. Latitude Linear Regression"
   ]
  },
  {
   "cell_type": "code",
   "execution_count": 33,
   "metadata": {},
   "outputs": [
    {
     "data": {
      "image/png": "[encoded data removed]",
      "text/plain": [
       "<Figure size 432x288 with 1 Axes>"
      ]
     },
     "metadata": {
      "needs_background": "light"
     },
     "output_type": "display_data"
    },
    {
     "name": "stdout",
     "output_type": "stream",
     "text": [
      "Line Equation: y = -0.3 x + 68.2\n",
      "The r2 value is 0.0317\n"
     ]
    }
   ],
   "source": [
    "x = southDF['Latitude']\n",
    "y = southDF['Humidity']\n",
    "(slope, intercept, rvalue, pvalue, stderr) = linregress(x, y)\n",
    "regress_values = (x * slope) + intercept\n",
    "line_eq = \"y = \" + str(round(slope,2)) + \"x + \" + str(round(intercept,2))\n",
    "plt.scatter(x,y)\n",
    "plt.plot(x,regress_values,\"r-\")\n",
    "plt.title(f'Latitude vs. Humidity, South Hemisphere ({today})')\n",
    "plt.xlabel('Latitude')\n",
    "plt.ylabel('Humidity (%)')\n",
    "plt.savefig('latVhum_S_linreg')\n",
    "plt.show()\n",
    "\n",
    "print(f'Line Equation: y = {slope:.1f} x + {intercept:.1f}')\n",
    "print(f'The r2 value is {rvalue **2:.4f}')"
   ]
  },
  {
   "cell_type": "markdown",
   "metadata": {},
   "source": [
    "####  Northern Hemisphere - Cloudiness (%) vs. Latitude Linear Regression"
   ]
  },
  {
   "cell_type": "code",
   "execution_count": 34,
   "metadata": {},
   "outputs": [
    {
     "data": {
      "image/png": "[encoded data removed]",
      "text/plain": [
       "<Figure size 432x288 with 1 Axes>"
      ]
     },
     "metadata": {
      "needs_background": "light"
     },
     "output_type": "display_data"
    },
    {
     "name": "stdout",
     "output_type": "stream",
     "text": [
      "Line Equation: y = -0.1 x + 67.5\n",
      "The r2 value is 0.0020\n"
     ]
    }
   ],
   "source": [
    "x = northDF['Latitude']\n",
    "y = northDF['Cloud Cover']\n",
    "(slope, intercept, rvalue, pvalue, stderr) = linregress(x, y)\n",
    "regress_values = (x * slope) + intercept\n",
    "line_eq = \"y = \" + str(round(slope,2)) + \"x + \" + str(round(intercept,2))\n",
    "plt.scatter(x,y)\n",
    "plt.plot(x,regress_values,\"r-\")\n",
    "plt.title(f'Latitude vs. Cloudiness, North Hemisphere ({today})')\n",
    "plt.xlabel('Latitude')\n",
    "plt.ylabel('Cloud Cover (%)')\n",
    "plt.savefig('latVcloud_N_linreg')\n",
    "plt.show()\n",
    "\n",
    "print(f'Line Equation: y = {slope:.1f} x + {intercept:.1f}')\n",
    "print(f'The r2 value is {rvalue **2:.4f}')"
   ]
  },
  {
   "cell_type": "markdown",
   "metadata": {},
   "source": [
    "####  Southern Hemisphere - Cloudiness (%) vs. Latitude Linear Regression"
   ]
  },
  {
   "cell_type": "code",
   "execution_count": 35,
   "metadata": {},
   "outputs": [
    {
     "data": {
      "image/png": "[encoded data removed]",
      "text/plain": [
       "<Figure size 432x288 with 1 Axes>"
      ]
     },
     "metadata": {
      "needs_background": "light"
     },
     "output_type": "display_data"
    },
    {
     "name": "stdout",
     "output_type": "stream",
     "text": [
      "Line Equation: y = -0.9 x + 20.4\n",
      "The r2 value is 0.0842\n"
     ]
    }
   ],
   "source": [
    "x = southDF['Latitude']\n",
    "y = southDF['Cloud Cover']\n",
    "(slope, intercept, rvalue, pvalue, stderr) = linregress(x, y)\n",
    "regress_values = (x * slope) + intercept\n",
    "line_eq = \"y = \" + str(round(slope,2)) + \"x + \" + str(round(intercept,2))\n",
    "plt.scatter(x,y)\n",
    "plt.plot(x,regress_values,\"r-\")\n",
    "plt.title(f'Latitude vs. Cloudiness, South Hemisphere ({today})')\n",
    "plt.xlabel('Latitude')\n",
    "plt.ylabel('Cloud Cover (%)')\n",
    "plt.savefig('latVcloud_S_linreg')\n",
    "plt.show()\n",
    "\n",
    "print(f'Line Equation: y = {slope:.1f} x + {intercept:.1f}')\n",
    "print(f'The r2 value is {rvalue **2:.4f}')"
   ]
  },
  {
   "cell_type": "markdown",
   "metadata": {},
   "source": [
    "####  Northern Hemisphere - Wind Speed (mph) vs. Latitude Linear Regression"
   ]
  },
  {
   "cell_type": "code",
   "execution_count": 36,
   "metadata": {},
   "outputs": [
    {
     "data": {
      "image/png": "[encoded data removed]",
      "text/plain": [
       "<Figure size 432x288 with 1 Axes>"
      ]
     },
     "metadata": {
      "needs_background": "light"
     },
     "output_type": "display_data"
    },
    {
     "name": "stdout",
     "output_type": "stream",
     "text": [
      "Line Equation: y = -0.0 x + 4.3\n",
      "The r2 value is 0.0048\n"
     ]
    }
   ],
   "source": [
    "x = northDF['Latitude']\n",
    "y = northDF['Wind Speed']\n",
    "(slope, intercept, rvalue, pvalue, stderr) = linregress(x, y)\n",
    "regress_values = (x * slope) + intercept\n",
    "line_eq = \"y = \" + str(round(slope,2)) + \"x + \" + str(round(intercept,2))\n",
    "plt.scatter(x,y)\n",
    "plt.plot(x,regress_values,\"r-\")\n",
    "plt.title(f'Latitude vs. Wind Speed, North Hemisphere ({today})')\n",
    "plt.xlabel('Latitude')\n",
    "plt.ylabel('Wind Speed (mph)')\n",
    "plt.savefig('latVwind_N_linreg')\n",
    "plt.show()\n",
    "\n",
    "print(f'Line Equation: y = {slope:.1f} x + {intercept:.1f}')\n",
    "print(f'The r2 value is {rvalue **2:.4f}')"
   ]
  },
  {
   "cell_type": "markdown",
   "metadata": {},
   "source": [
    "####  Southern Hemisphere - Wind Speed (mph) vs. Latitude Linear Regression"
   ]
  },
  {
   "cell_type": "code",
   "execution_count": 37,
   "metadata": {},
   "outputs": [
    {
     "data": {
      "image/png": "[encoded data removed]",
      "text/plain": [
       "<Figure size 432x288 with 1 Axes>"
      ]
     },
     "metadata": {
      "needs_background": "light"
     },
     "output_type": "display_data"
    },
    {
     "name": "stdout",
     "output_type": "stream",
     "text": [
      "Line Equation: y = -0.0 x + 3.0\n",
      "The r2 value is 0.0171\n"
     ]
    }
   ],
   "source": [
    "x = southDF['Latitude']\n",
    "y = southDF['Wind Speed']\n",
    "(slope, intercept, rvalue, pvalue, stderr) = linregress(x, y)\n",
    "regress_values = (x * slope) + intercept\n",
    "line_eq = \"y = \" + str(round(slope,2)) + \"x + \" + str(round(intercept,2))\n",
    "plt.scatter(x,y)\n",
    "plt.plot(x,regress_values,\"r-\")\n",
    "plt.title(f'Latitude vs. Wind Speed, South Hemisphere ({today})')\n",
    "plt.xlabel('Latitude')\n",
    "plt.ylabel('Wind Speed (mph)')\n",
    "plt.savefig('latVwind_S_linreg')\n",
    "plt.show()\n",
    "\n",
    "print(f'Line Equation: y = {slope:.1f} x + {intercept:.1f}')\n",
    "print(f'The r2 value is {rvalue **2:.4f}')"
   ]
  },
  {
   "cell_type": "code",
   "execution_count": 47,
   "metadata": {},
   "outputs": [
    {
     "name": "stdout",
     "output_type": "stream",
     "text": [
      "\n",
      "-------------------------\n",
      "------- ANALYSIS --------\n",
      "-------------------------\n",
      "\n",
      "There is a clear and strong correlation between temperature and latitude. \n",
      "The temperature tends to be higher closer to the equator, and get lower the further you get from the equator. \n",
      "The r2 values are above 0.7 or even 0.8 showing a very strong correlation.\n",
      "This is entirely as expected, considering what we know about temperature across the world.\n",
      "\n",
      "The other factors are less stong. The r2 values are extremely low, meaning any noticeable slope is more like coincidence. \n",
      "\n",
      "The only factor that shows some consistency is Humidity. The slopes are mirrored around the equator, similar to temperature, which suggests a more purposeful correlation. However the r2 values are still barely relevant.\n",
      "\n"
     ]
    }
   ],
   "source": [
    "print('''\n",
    "-------------------------\n",
    "------- ANALYSIS --------\n",
    "-------------------------\n",
    "\n",
    "There is a clear and strong correlation between temperature and latitude. \n",
    "The temperature tends to be higher closer to the equator, and get lower the further you get from the equator. \n",
    "The r2 values are above 0.7 or even 0.8 showing a very strong correlation.\n",
    "This is entirely as expected, considering what we know about temperature across the world.\n",
    "\n",
    "The other factors are less stong. The r2 values are extremely low, meaning any noticeable slope is more like coincidence. \n",
    "\n",
    "The only factor that shows some consistency is Humidity. The slopes are mirrored around the equator, similar to temperature, which suggests a more purposeful correlation. However the r2 values are still barely relevant.\n",
    "''')"
   ]
  }
 ],
 "metadata": {
  "anaconda-cloud": {},
  "kernel_info": {
   "name": "python3"
  },
  "kernelspec": {
   "display_name": "Python 3",
   "language": "python",
   "name": "python3"
  },
  "language_info": {
   "codemirror_mode": {
    "name": "ipython",
    "version": 3
   },
   "file_extension": ".py",
   "mimetype": "text/x-python",
   "name": "python",
   "nbconvert_exporter": "python",
   "pygments_lexer": "ipython3",
   "version": "3.8.5"
  },
  "latex_envs": {
   "LaTeX_envs_menu_present": true,
   "autoclose": false,
   "autocomplete": true,
   "bibliofile": "biblio.bib",
   "cite_by": "apalike",
   "current_citInitial": 1,
   "eqLabelWithNumbers": true,
   "eqNumInitial": 1,
   "hotkeys": {
    "equation": "Ctrl-E",
    "itemize": "Ctrl-I"
   },
   "labels_anchors": false,
   "latex_user_defs": false,
   "report_style_numbering": false,
   "user_envs_cfg": false
  },
  "nteract": {
   "version": "0.12.3"
  }
 },
 "nbformat": 4,
 "nbformat_minor": 2
}
